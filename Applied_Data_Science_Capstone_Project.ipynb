# Coursera_Capstone
The project aims to be mainly used for the capstone.
