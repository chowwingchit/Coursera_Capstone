# Coursera_Capstone
The project aims to be mainly used for the capstone.

import pandas as pd
import numpy as np
print ("Hello Capstone Project Course!")
